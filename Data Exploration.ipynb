{
 "cells": [
  {
   "cell_type": "code",
   "execution_count": 8,
   "id": "3d21add8",
   "metadata": {},
   "outputs": [
    {
     "name": "stdout",
     "output_type": "stream",
     "text": [
      "The locations in the training dataset are:  ['AURO' 'BAHA' 'BALD' 'BEAR' 'BUCK' 'BURN' 'CAST' 'CHAP' 'CLA2' 'CLAY'\n",
      " 'CLIN' 'DURH' 'FLET' 'FRYI' 'GOLD' 'HAML' 'JACK' 'JEFF' 'KINS' 'LAKE'\n",
      " 'LAUR' 'LEWS' 'LILE' 'MITC' 'NCAT' 'NEWL' 'OXFO' 'PLYM' 'REED' 'REID'\n",
      " 'ROCK' 'SALI' 'SASS' 'SILR' 'SPIN' 'SPRU' 'TAYL' 'UNCA' 'WAYN' 'WHIT'\n",
      " 'WILD' 'WILL' 'WINE']\n",
      "\n",
      "Count:  43\n",
      "(6593274, 9)\n"
     ]
    }
   ],
   "source": [
    "import pandas as pd\n",
    "import matplotlib.pyplot as plt\n",
    "import warnings\n",
    "warnings.filterwarnings('ignore')\n",
    "import seaborn as sns\n",
    "\n",
    "train_df = pd.read_csv('econet dataset/train.csv')\n",
    "unique_locations = train_df['Station'].unique()\n",
    "print(\"The locations in the training dataset are: \", unique_locations)\n",
    "print(\"\\nCount: \", len(unique_locations))\n",
    "print(train_df.shape)"
   ]
  },
  {
   "cell_type": "code",
   "execution_count": 9,
   "id": "a707ac26",
   "metadata": {},
   "outputs": [
    {
     "name": "stdout",
     "output_type": "stream",
     "text": [
      "<class 'pandas.core.frame.DataFrame'>\n",
      "RangeIndex: 6593274 entries, 0 to 6593273\n",
      "Data columns (total 9 columns):\n",
      " #   Column   Dtype  \n",
      "---  ------   -----  \n",
      " 0   Station  object \n",
      " 1   Ob       object \n",
      " 2   value    float64\n",
      " 3   measure  object \n",
      " 4   target   bool   \n",
      " 5   R_flag   int64  \n",
      " 6   I_flag   int64  \n",
      " 7   Z_flag   int64  \n",
      " 8   B_flag   int64  \n",
      "dtypes: bool(1), float64(1), int64(4), object(3)\n",
      "memory usage: 408.7+ MB\n"
     ]
    }
   ],
   "source": [
    "train_df.info()"
   ]
  },
  {
   "cell_type": "code",
   "execution_count": null,
   "id": "3be38b22",
   "metadata": {},
   "outputs": [],
   "source": [
    "train_df['Ob'] = pd.to_datetime(train_df['Ob'])"
   ]
  },
  {
   "cell_type": "code",
   "execution_count": null,
   "id": "3c485d80",
   "metadata": {},
   "outputs": [],
   "source": [
    "print(train_df.head(5))"
   ]
  },
  {
   "cell_type": "code",
   "execution_count": null,
   "id": "41e5c66f",
   "metadata": {},
   "outputs": [],
   "source": [
    "temp_df = train_df.loc[train_df['Station'] == 'AURO']"
   ]
  },
  {
   "cell_type": "code",
   "execution_count": null,
   "id": "79c3c188",
   "metadata": {},
   "outputs": [],
   "source": [
    "temp_df['month'] = pd.DatetimeIndex(temp_df['Ob']).month"
   ]
  },
  {
   "cell_type": "code",
   "execution_count": null,
   "id": "e3be0506",
   "metadata": {},
   "outputs": [],
   "source": [
    "plt.figure(figsize=(24,8))\n",
    "sns.lineplot(temp_df['month'], temp_df['value'])"
   ]
  },
  {
   "cell_type": "code",
   "execution_count": null,
   "id": "11b09deb",
   "metadata": {},
   "outputs": [],
   "source": [
    "import seaborn as sns\n",
    "plt.figure(figsize=(32,10))\n",
    "plt.xlabel('month')\n",
    "plt.ylabel('value')\n",
    "\n",
    "#Change the location if you want to check for other locations.\n",
    "temp_df = train_df.loc[train_df['Station'] == 'AURO']\n",
    "temp_df['month'] = pd.DatetimeIndex(temp_df['Ob']).month\n",
    "\n",
    "#Change the value of the month if you want to see for different months.\n",
    "df = temp_df.loc[temp_df['month'] == 4]\n",
    "sns.lineplot(df['Ob'], df['value'], color='b')\n",
    "ax2 = plt.twinx()\n",
    "sns.scatterplot(df['Ob'], df['target'], color=\"g\", ax=ax2)"
   ]
  },
  {
   "cell_type": "code",
   "execution_count": null,
   "id": "0b3f039f",
   "metadata": {},
   "outputs": [],
   "source": [
    "plt.figure(figsize=(12,10))\n",
    "cor = train_df.corr()\n",
    "sns.heatmap(cor, annot=True, cmap=plt.cm.Reds)\n",
    "plt.show()"
   ]
  },
  {
   "cell_type": "markdown",
   "id": "98d7e3fe",
   "metadata": {},
   "source": [
    "## As you can see from the above heatmap, the correlation between the values and the target variable is very low with the highest being 0.17 between Z_flag and target"
   ]
  },
  {
   "cell_type": "code",
   "execution_count": null,
   "id": "cf8df3f0",
   "metadata": {},
   "outputs": [],
   "source": [
    "print(train_df.columns)"
   ]
  },
  {
   "cell_type": "code",
   "execution_count": null,
   "id": "5d337041",
   "metadata": {},
   "outputs": [],
   "source": [
    "from sklearn.preprocessing import StandardScaler\n",
    "\n",
    "features = ['value', 'measure', 'R_flag', 'I_flag', 'Z_flag', 'B_flag']\n",
    "temp_df = train_df.loc[:]\n",
    "temp_df['measure'] = pd.get_dummies(temp_df['measure'])\n",
    "x = temp_df.loc[:, features].values\n",
    "y = temp_df.loc[:,['target']].values\n",
    "x = StandardScaler().fit_transform(x)"
   ]
  },
  {
   "cell_type": "code",
   "execution_count": null,
   "id": "867a0bb3",
   "metadata": {},
   "outputs": [],
   "source": [
    "from sklearn.decomposition import PCA\n",
    "pca = PCA(n_components = 0.95)\n",
    "principalComponents = pca.fit_transform(x)\n",
    "p_df = pd.DataFrame(data = principalComponents)"
   ]
  },
  {
   "cell_type": "code",
   "execution_count": null,
   "id": "c1e6ef1e",
   "metadata": {},
   "outputs": [],
   "source": [
    "p_df.head()"
   ]
  },
  {
   "cell_type": "code",
   "execution_count": null,
   "id": "e230b2e0",
   "metadata": {},
   "outputs": [],
   "source": [
    "finalDf = pd.concat([p_df, temp_df[['target']]], axis = 1)\n",
    "print(finalDf.head())"
   ]
  },
  {
   "cell_type": "code",
   "execution_count": null,
   "id": "53abd45d",
   "metadata": {},
   "outputs": [],
   "source": [
    "plt.scatter(principalComponents[:,0], principalComponents[:,1], c=y)\n",
    "plt.legend(handles=plot.legend_elements()[0], labels=list(temp_df['target']))\n",
    "plt.show()"
   ]
  },
  {
   "cell_type": "code",
   "execution_count": null,
   "id": "a0efb0b9",
   "metadata": {},
   "outputs": [],
   "source": []
  }
 ],
 "metadata": {
  "kernelspec": {
   "display_name": "Python 3",
   "language": "python",
   "name": "python3"
  },
  "language_info": {
   "codemirror_mode": {
    "name": "ipython",
    "version": 3
   },
   "file_extension": ".py",
   "mimetype": "text/x-python",
   "name": "python",
   "nbconvert_exporter": "python",
   "pygments_lexer": "ipython3",
   "version": "3.8.8"
  }
 },
 "nbformat": 4,
 "nbformat_minor": 5
}
