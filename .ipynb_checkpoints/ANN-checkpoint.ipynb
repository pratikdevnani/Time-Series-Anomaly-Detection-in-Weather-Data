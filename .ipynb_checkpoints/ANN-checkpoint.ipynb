{
 "cells": [
  {
   "cell_type": "code",
   "execution_count": null,
   "id": "685b3064",
   "metadata": {},
   "outputs": [],
   "source": [
    "import tensorflow as tf"
   ]
  },
  {
   "cell_type": "code",
   "execution_count": null,
   "id": "437cf5b3",
   "metadata": {},
   "outputs": [],
   "source": [
    "import csv\n",
    "import os\n",
    "import pandas as pd\n",
    "import numpy as np\n",
    "import matplotlib.pyplot as plt\n",
    "import glob\n",
    "import imblearn\n",
    "import warnings\n",
    "warnings.filterwarnings('ignore')"
   ]
  },
  {
   "cell_type": "code",
   "execution_count": null,
   "id": "bbb566a9",
   "metadata": {},
   "outputs": [],
   "source": [
    "train_df = pd.read_csv('econet dataset/train.csv')"
   ]
  },
  {
   "cell_type": "code",
   "execution_count": null,
   "id": "667e41ae",
   "metadata": {},
   "outputs": [],
   "source": [
    "train_df['Ob'] = pd.to_datetime(train_df['Ob'])"
   ]
  },
  {
   "cell_type": "code",
   "execution_count": null,
   "id": "2de2f439",
   "metadata": {},
   "outputs": [],
   "source": [
    "from sklearn.preprocessing import StandardScaler, LabelEncoder\n",
    "label_encoder = LabelEncoder()\n",
    "features = ['Station', 'Ob', 'value', 'measure', 'R_flag', 'I_flag', 'Z_flag', 'B_flag']\n",
    "temp_df = train_df.loc[:]\n",
    "label_encoder = LabelEncoder()\n",
    "temp_df['Station'] = label_encoder.fit_transform(train_df['Station'])\n",
    "temp_df['measure'] = label_encoder.fit_transform(train_df['measure'])\n",
    "temp_df['Ob'] = train_df['Ob'].values.astype(float)\n",
    "\n",
    "x = temp_df.loc[:, features].values\n",
    "y = temp_df.loc[:,['target']].values\n",
    "x = StandardScaler().fit_transform(x)"
   ]
  },
  {
   "cell_type": "code",
   "execution_count": null,
   "id": "8238f2e3",
   "metadata": {},
   "outputs": [],
   "source": [
    "# from sklearn.decomposition import PCA\n",
    "# pca = PCA(n_components = 0.95)\n",
    "# principalComponents = pca.fit_transform(x)\n",
    "# p_df = pd.DataFrame(principalComponents)"
   ]
  },
  {
   "cell_type": "code",
   "execution_count": null,
   "id": "20b31046",
   "metadata": {},
   "outputs": [],
   "source": [
    "finalDf = pd.concat([pd.DataFrame(x), temp_df[['target']]], axis = 1)\n",
    "print(finalDf.head())"
   ]
  },
  {
   "cell_type": "code",
   "execution_count": null,
   "id": "6c150ddf",
   "metadata": {},
   "outputs": [],
   "source": [
    "y = finalDf['target']\n",
    "X = finalDf[[0, 1, 2, 3, 4, 5, 6, 7]]\n",
    "print(type(y), type(X))"
   ]
  },
  {
   "cell_type": "code",
   "execution_count": null,
   "id": "ab252dc8",
   "metadata": {},
   "outputs": [],
   "source": [
    "# finalDf.to_csv('finalDF.csv', index = True)\n",
    "# finalDf = pd.read_csv('finalDF.csv')"
   ]
  },
  {
   "cell_type": "code",
   "execution_count": null,
   "id": "836ecb6f",
   "metadata": {},
   "outputs": [],
   "source": [
    "print(X.shape, y.shape)"
   ]
  },
  {
   "cell_type": "code",
   "execution_count": null,
   "id": "adade86b",
   "metadata": {},
   "outputs": [],
   "source": [
    "from sklearn.preprocessing import OneHotEncoder\n",
    "from sklearn.model_selection import train_test_split\n",
    "\n",
    "X_train, X_test, y_train, y_test = train_test_split(X, y, test_size=0.3, random_state=42)"
   ]
  },
  {
   "cell_type": "code",
   "execution_count": null,
   "id": "d5e501b1",
   "metadata": {},
   "outputs": [],
   "source": [
    "from imblearn.over_sampling import SMOTE\n",
    "\n",
    "under = SMOTE(random_state = 42)\n",
    "\n",
    "X_train, y_train = under.fit_resample(X_train, y_train)\n",
    "print(X_train.shape, y_train.shape)"
   ]
  },
  {
   "cell_type": "code",
   "execution_count": null,
   "id": "3a527f91",
   "metadata": {},
   "outputs": [],
   "source": [
    "pd.DataFrame(y_train).value_counts()"
   ]
  },
  {
   "cell_type": "code",
   "execution_count": null,
   "id": "a97b4288",
   "metadata": {},
   "outputs": [],
   "source": [
    "y_train = np.array(y_train).reshape(-1, 1)\n",
    "y_test = np.array(y_test).reshape(-1, 1)"
   ]
  },
  {
   "cell_type": "code",
   "execution_count": null,
   "id": "11c6c01e",
   "metadata": {},
   "outputs": [],
   "source": [
    "print(y_train, y_test)"
   ]
  },
  {
   "cell_type": "code",
   "execution_count": null,
   "id": "a9b6290b",
   "metadata": {},
   "outputs": [],
   "source": [
    "enc = OneHotEncoder(handle_unknown='ignore', sparse=False)\n",
    "enc = enc.fit(y_train)\n",
    "y_train = enc.transform(y_train)\n",
    "y_test = enc.transform(y_test)"
   ]
  },
  {
   "cell_type": "code",
   "execution_count": null,
   "id": "623bc29a",
   "metadata": {},
   "outputs": [],
   "source": [
    "print(X_train.shape, y_train.shape)"
   ]
  },
  {
   "cell_type": "code",
   "execution_count": null,
   "id": "3bfd4ce6",
   "metadata": {},
   "outputs": [],
   "source": [
    "print(y_train)"
   ]
  },
  {
   "cell_type": "code",
   "execution_count": null,
   "id": "a415e2fc",
   "metadata": {},
   "outputs": [],
   "source": [
    "from tensorflow.keras.callbacks import EarlyStopping\n",
    "early_stopping = EarlyStopping(monitor='val_loss', mode='min', verbose=1, patience=1, min_delta = 0.001)"
   ]
  },
  {
   "cell_type": "code",
   "execution_count": null,
   "id": "c64ee9d4",
   "metadata": {},
   "outputs": [],
   "source": [
    "from tensorflow.keras.models import Sequential, load_model\n",
    "from tensorflow.keras.layers import Dense, Activation, Dropout\n",
    "from tensorflow.keras.optimizers import Adam, SGD\n",
    "\n",
    "input_shape = (X_train.shape[1])\n",
    "output_dim = 2\n",
    "\n",
    "ann=Sequential()\n",
    "ann.add(Dense(units=input_shape, activation=\"relu\"))\n",
    "ann.add(Dense(units=16,activation=\"relu\"))\n",
    "ann.add(Dense(units=8,activation=\"relu\"))\n",
    "ann.add(Dense(units=2,activation=\"sigmoid\"))\n",
    "ann.compile(optimizer=\"adam\",loss=\"binary_crossentropy\")"
   ]
  },
  {
   "cell_type": "code",
   "execution_count": null,
   "id": "45521708",
   "metadata": {},
   "outputs": [],
   "source": [
    "hist = ann.fit(X_train, y_train, validation_split=0.2, batch_size=32, epochs=5)"
   ]
  },
  {
   "cell_type": "code",
   "execution_count": null,
   "id": "203e2461",
   "metadata": {},
   "outputs": [],
   "source": [
    "ann.summary()"
   ]
  },
  {
   "cell_type": "code",
   "execution_count": null,
   "id": "d2215a2c",
   "metadata": {},
   "outputs": [],
   "source": [
    "y_pred = ann.predict(X_test)"
   ]
  },
  {
   "cell_type": "code",
   "execution_count": null,
   "id": "7c0f75f7",
   "metadata": {},
   "outputs": [],
   "source": [
    "print(y_pred)\n",
    "print(y_pred.shape)"
   ]
  },
  {
   "cell_type": "code",
   "execution_count": null,
   "id": "39a4c7ac",
   "metadata": {},
   "outputs": [],
   "source": [
    "y_pred = np.argmax(y_pred, axis = 1)\n",
    "y_test = np.argmax(y_test, axis = 1)"
   ]
  },
  {
   "cell_type": "code",
   "execution_count": null,
   "id": "2bf9de9a",
   "metadata": {},
   "outputs": [],
   "source": [
    "print(y_pred)"
   ]
  },
  {
   "cell_type": "code",
   "execution_count": null,
   "id": "022e8835",
   "metadata": {},
   "outputs": [],
   "source": [
    "from sklearn.metrics import classification_report\n",
    "\n",
    "print(classification_report(y_test, y_pred))"
   ]
  },
  {
   "cell_type": "code",
   "execution_count": null,
   "id": "97d9fb20",
   "metadata": {},
   "outputs": [],
   "source": [
    "test_df = pd.read_csv('econet dataset/test.csv')"
   ]
  },
  {
   "cell_type": "code",
   "execution_count": null,
   "id": "22f02c53",
   "metadata": {},
   "outputs": [],
   "source": [
    "test_df['Ob'] = pd.to_datetime(test_df['Ob'])"
   ]
  },
  {
   "cell_type": "code",
   "execution_count": null,
   "id": "01756a32",
   "metadata": {},
   "outputs": [],
   "source": [
    "from sklearn.preprocessing import StandardScaler, LabelEncoder\n",
    "\n",
    "features = ['Station', 'Ob', 'value', 'measure', 'R_flag', 'I_flag', 'Z_flag', 'B_flag']\n",
    "temp_df = test_df.loc[:]\n",
    "\n",
    "label_encoder = LabelEncoder()\n",
    "temp_df['Station'] = label_encoder.fit_transform(test_df['Station'])\n",
    "temp_df['measure'] = label_encoder.fit_transform(test_df['measure'])\n",
    "temp_df['Ob'] = test_df['Ob'].values.astype(float)\n",
    "\n",
    "x = temp_df.loc[:, features].values\n",
    "x = StandardScaler().fit_transform(x)"
   ]
  },
  {
   "cell_type": "code",
   "execution_count": null,
   "id": "3cb34624",
   "metadata": {},
   "outputs": [],
   "source": [
    "# from sklearn.decomposition import PCA\n",
    "# pca = PCA(n_components = 0.95)\n",
    "# principalComponents = pca.fit_transform(x)\n",
    "# p_df = pd.DataFrame(principalComponents)"
   ]
  },
  {
   "cell_type": "code",
   "execution_count": null,
   "id": "d1f165af",
   "metadata": {},
   "outputs": [],
   "source": [
    "finalDf = x"
   ]
  },
  {
   "cell_type": "code",
   "execution_count": null,
   "id": "299c3a92",
   "metadata": {},
   "outputs": [],
   "source": [
    "print(finalDf)"
   ]
  },
  {
   "cell_type": "code",
   "execution_count": null,
   "id": "ee55c448",
   "metadata": {},
   "outputs": [],
   "source": [
    "y_preds_test = ann.predict(finalDf)"
   ]
  },
  {
   "cell_type": "code",
   "execution_count": null,
   "id": "2cbdaefe",
   "metadata": {},
   "outputs": [],
   "source": [
    "print(y_preds_test.shape)"
   ]
  },
  {
   "cell_type": "code",
   "execution_count": null,
   "id": "3bc264cb",
   "metadata": {},
   "outputs": [],
   "source": [
    "pd.DataFrame(y_preds_test[:,1], columns=['target']).to_csv('predictions.csv', index=False)"
   ]
  },
  {
   "cell_type": "code",
   "execution_count": null,
   "id": "36723d2c",
   "metadata": {},
   "outputs": [],
   "source": []
  }
 ],
 "metadata": {
  "kernelspec": {
   "display_name": "Python 3 (ipykernel)",
   "language": "python",
   "name": "python3"
  },
  "language_info": {
   "codemirror_mode": {
    "name": "ipython",
    "version": 3
   },
   "file_extension": ".py",
   "mimetype": "text/x-python",
   "name": "python",
   "nbconvert_exporter": "python",
   "pygments_lexer": "ipython3",
   "version": "3.8.8"
  }
 },
 "nbformat": 4,
 "nbformat_minor": 5
}
