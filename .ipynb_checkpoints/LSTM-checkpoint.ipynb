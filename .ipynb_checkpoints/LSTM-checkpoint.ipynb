{
 "cells": [
  {
   "cell_type": "code",
   "execution_count": 1,
   "id": "a153a0e5",
   "metadata": {},
   "outputs": [],
   "source": [
    "import tensorflow as tf"
   ]
  },
  {
   "cell_type": "code",
   "execution_count": 2,
   "id": "f60cc7a7",
   "metadata": {},
   "outputs": [],
   "source": [
    "import csv\n",
    "import os\n",
    "import pandas as pd\n",
    "import numpy as np\n",
    "import matplotlib.pyplot as plt\n",
    "import glob\n",
    "import imblearn\n",
    "import warnings\n",
    "warnings.filterwarnings('ignore')"
   ]
  },
  {
   "cell_type": "code",
   "execution_count": 3,
   "id": "40c631bc",
   "metadata": {},
   "outputs": [],
   "source": [
    "train_df = pd.read_csv('econet dataset/train.csv')\n",
    "unique_locations = train_df['Station'].unique()"
   ]
  },
  {
   "cell_type": "code",
   "execution_count": 4,
   "id": "10bc7767",
   "metadata": {},
   "outputs": [],
   "source": [
    "train_df['Ob'] = pd.to_datetime(train_df['Ob'])"
   ]
  },
  {
   "cell_type": "code",
   "execution_count": 5,
   "id": "c56797e1",
   "metadata": {},
   "outputs": [],
   "source": [
    "from sklearn.preprocessing import StandardScaler, LabelEncoder\n",
    "label_encoder = LabelEncoder()\n",
    "features = ['Station', 'Ob', 'value', 'measure', 'R_flag', 'I_flag', 'Z_flag', 'B_flag']\n",
    "temp_df = train_df.loc[:]\n",
    "label_encoder = LabelEncoder()\n",
    "temp_df['Station'] = label_encoder.fit_transform(train_df['Station'])\n",
    "temp_df['measure'] = label_encoder.fit_transform(train_df['measure'])\n",
    "temp_df['Ob'] = train_df['Ob'].values.astype(float)\n",
    "\n",
    "x = temp_df.loc[:, features].values\n",
    "y = temp_df.loc[:,['target']].values\n",
    "x = StandardScaler().fit_transform(x)"
   ]
  },
  {
   "cell_type": "code",
   "execution_count": 6,
   "id": "86827a1e",
   "metadata": {},
   "outputs": [],
   "source": [
    "from sklearn.decomposition import PCA\n",
    "pca = PCA(n_components = 0.95)\n",
    "principalComponents = pca.fit_transform(x)\n",
    "p_df = pd.DataFrame(principalComponents)"
   ]
  },
  {
   "cell_type": "code",
   "execution_count": 7,
   "id": "9d2737b1",
   "metadata": {},
   "outputs": [
    {
     "name": "stdout",
     "output_type": "stream",
     "text": [
      "          0         1         2         3         4         5         6  \\\n",
      "0 -0.326512  0.946291  0.364007  2.680728 -0.883147  0.672595 -0.590456   \n",
      "1 -0.325359  0.945896  0.362786  2.679443 -0.883103  0.673863 -0.591416   \n",
      "2 -0.325825  0.946202  0.362537  2.679315 -0.883461  0.673131 -0.590933   \n",
      "3 -0.327426  0.947174  0.362091  2.679230 -0.884507  0.670732 -0.589325   \n",
      "4 -0.289066  0.986795  0.054464  2.403466 -1.005693  0.633474 -0.586918   \n",
      "\n",
      "   target  \n",
      "0   False  \n",
      "1   False  \n",
      "2   False  \n",
      "3   False  \n",
      "4   False  \n"
     ]
    }
   ],
   "source": [
    "finalDf = pd.concat([p_df, temp_df[['target']]], axis = 1)\n",
    "print(finalDf.head())"
   ]
  },
  {
   "cell_type": "code",
   "execution_count": 8,
   "id": "50214814",
   "metadata": {},
   "outputs": [],
   "source": [
    "from scipy import stats\n",
    "\n",
    "def create_windows(X, y, time_steps=1, step=1):\n",
    "    Xs, ys = [], []\n",
    "      \n",
    "    for i in range(0, len(X) - time_steps + 1, step):\n",
    "        v = X.iloc[i:(i + time_steps)].values\n",
    "        labels = y.iloc[i: i + time_steps]\n",
    "        Xs.append(v)\n",
    "        ys.append(stats.mode(labels)[0][0])\n",
    "\n",
    "    return np.array(Xs), np.array(ys).reshape(-1, 1)"
   ]
  },
  {
   "cell_type": "code",
   "execution_count": 9,
   "id": "3b684e8c",
   "metadata": {},
   "outputs": [
    {
     "name": "stdout",
     "output_type": "stream",
     "text": [
      "<class 'pandas.core.series.Series'> <class 'pandas.core.frame.DataFrame'>\n"
     ]
    }
   ],
   "source": [
    "# y = label_encoder.fit_transform(finalDf['target'])\n",
    "y = finalDf['target']\n",
    "X = finalDf[[0, 1, 2, 3, 4, 5, 6]]\n",
    "print(type(y), type(X))"
   ]
  },
  {
   "cell_type": "code",
   "execution_count": 10,
   "id": "a061e3c2",
   "metadata": {},
   "outputs": [
    {
     "name": "stdout",
     "output_type": "stream",
     "text": [
      "(6593274, 7) (6593274,)\n"
     ]
    }
   ],
   "source": [
    "print(X.shape, y.shape)"
   ]
  },
  {
   "cell_type": "code",
   "execution_count": 12,
   "id": "e4becfbe",
   "metadata": {},
   "outputs": [
    {
     "ename": "NameError",
     "evalue": "name 'under' is not defined",
     "output_type": "error",
     "traceback": [
      "\u001b[1;31m---------------------------------------------------------------------------\u001b[0m",
      "\u001b[1;31mNameError\u001b[0m                                 Traceback (most recent call last)",
      "Input \u001b[1;32mIn [12]\u001b[0m, in \u001b[0;36m<cell line: 6>\u001b[1;34m()\u001b[0m\n\u001b[0;32m      2\u001b[0m \u001b[38;5;28;01mfrom\u001b[39;00m \u001b[38;5;21;01mimblearn\u001b[39;00m\u001b[38;5;21;01m.\u001b[39;00m\u001b[38;5;21;01mover_sampling\u001b[39;00m \u001b[38;5;28;01mimport\u001b[39;00m SMOTE\n\u001b[0;32m      4\u001b[0m over \u001b[38;5;241m=\u001b[39m SMOTE(random_state \u001b[38;5;241m=\u001b[39m \u001b[38;5;241m42\u001b[39m)\n\u001b[1;32m----> 6\u001b[0m X, y \u001b[38;5;241m=\u001b[39m \u001b[43munder\u001b[49m\u001b[38;5;241m.\u001b[39mfit_resample(X, y)\n\u001b[0;32m      7\u001b[0m \u001b[38;5;28mprint\u001b[39m(X\u001b[38;5;241m.\u001b[39mshape, y\u001b[38;5;241m.\u001b[39mshape)\n\u001b[0;32m      8\u001b[0m X, y \u001b[38;5;241m=\u001b[39m over\u001b[38;5;241m.\u001b[39mfit_resample(X, y)\n",
      "\u001b[1;31mNameError\u001b[0m: name 'under' is not defined"
     ]
    }
   ],
   "source": [
    "from imblearn.under_sampling import RandomUnderSampler\n",
    "from imblearn.over_sampling import SMOTE\n",
    "\n",
    "over = SMOTE(random_state = 42)\n",
    "\n",
    "X, y = over.fit_resample(X, y)\n",
    "print(X.shape, y.shape)"
   ]
  },
  {
   "cell_type": "code",
   "execution_count": null,
   "id": "61be2430",
   "metadata": {},
   "outputs": [],
   "source": [
    "pd.DataFrame(y).value_counts()"
   ]
  },
  {
   "cell_type": "code",
   "execution_count": null,
   "id": "68e436ae",
   "metadata": {},
   "outputs": [],
   "source": [
    "TIME_STEPS = 40\n",
    "STEP = 1\n",
    "\n",
    "X, y = create_windows(X, y, time_steps=TIME_STEPS,step=STEP)"
   ]
  },
  {
   "cell_type": "code",
   "execution_count": null,
   "id": "834554fe",
   "metadata": {},
   "outputs": [],
   "source": [
    "from sklearn.preprocessing import OneHotEncoder\n",
    "from sklearn.model_selection import train_test_split\n",
    "from imblearn.over_sampling import SMOTE\n",
    "\n",
    "X_train, X_test, y_train, y_test = train_test_split(X, y, test_size=0.2, random_state=42)\n",
    "\n",
    "## Converting label to OneHot Encoding\n",
    "enc = OneHotEncoder(handle_unknown='ignore', sparse=False)\n",
    "enc = enc.fit(y_train)\n",
    "y_train = enc.transform(y_train)\n",
    "y_test = enc.transform(y_test)"
   ]
  },
  {
   "cell_type": "code",
   "execution_count": null,
   "id": "d46d5a55",
   "metadata": {},
   "outputs": [],
   "source": [
    "y_test[0]"
   ]
  },
  {
   "cell_type": "code",
   "execution_count": null,
   "id": "0b0befd1",
   "metadata": {},
   "outputs": [],
   "source": [
    "from tensorflow.keras.models import Sequential, load_model\n",
    "from tensorflow.keras.layers import Dense, Activation, Dropout\n",
    "from tensorflow.keras.layers import LSTM\n",
    "from tensorflow.keras.optimizers import Adam, SGD\n",
    "\n",
    "input_shape = (X_train.shape[1], X_train.shape[2])\n",
    "print(input_shape)\n",
    "output_dim = 2\n",
    "lr = 0.001\n",
    "\n",
    "\n",
    "model=Sequential()\n",
    "model.add(LSTM(16,return_sequences=True,input_shape=input_shape))\n",
    "model.add(Dropout(0.1)) \n",
    "model.add(LSTM(16,return_sequences=True))\n",
    "model.add(Dropout(0.1))\n",
    "model.add(LSTM(16, return_sequences=False))\n",
    "model.add(Dropout(0.1))\n",
    "model.add(Dense(output_dim))\n",
    "model.add(Activation(\"softmax\"))\n",
    "model.compile(loss='categorical_crossentropy',optimizer='adam')"
   ]
  },
  {
   "cell_type": "code",
   "execution_count": null,
   "id": "4478277f",
   "metadata": {},
   "outputs": [],
   "source": [
    "hist = model.fit(\n",
    "    X_train, y_train,\n",
    "    epochs=20,\n",
    "    batch_size=64,\n",
    "    shuffle=True\n",
    ")"
   ]
  },
  {
   "cell_type": "code",
   "execution_count": null,
   "id": "ae9d16b3",
   "metadata": {},
   "outputs": [],
   "source": [
    "import pickle\n",
    "filename = 'lstm_model.pkl'\n",
    "with open(filename, 'wb') as f:\n",
    "    pickle.dump(hist,  f)"
   ]
  },
  {
   "cell_type": "code",
   "execution_count": null,
   "id": "cf4adcbb",
   "metadata": {},
   "outputs": [],
   "source": [
    "y_pred = model.predict(X_test)\n",
    "y_pred = np.argmax(y_pred, axis = 1)\n",
    "y_test = np.argmax(y_test, axis = 1)"
   ]
  },
  {
   "cell_type": "code",
   "execution_count": null,
   "id": "640e80dc",
   "metadata": {},
   "outputs": [],
   "source": [
    "from sklearn.metrics import classification_report\n",
    "\n",
    "print(classification_report(y_test, y_pred))"
   ]
  },
  {
   "cell_type": "code",
   "execution_count": null,
   "id": "fe7f8892",
   "metadata": {},
   "outputs": [],
   "source": [
    "import pandas as pd\n",
    "print(pd.DataFrame(y_pred).value_counts())"
   ]
  },
  {
   "cell_type": "code",
   "execution_count": null,
   "id": "e4274293",
   "metadata": {},
   "outputs": [],
   "source": [
    "print(pd.DataFrame(y_test).value_counts())"
   ]
  },
  {
   "cell_type": "code",
   "execution_count": null,
   "id": "fc5c372b",
   "metadata": {},
   "outputs": [],
   "source": [
    "test_df = pd.read_csv('econet dataset/test.csv')"
   ]
  },
  {
   "cell_type": "code",
   "execution_count": null,
   "id": "cc093569",
   "metadata": {},
   "outputs": [],
   "source": [
    "test_df.shape"
   ]
  },
  {
   "cell_type": "code",
   "execution_count": null,
   "id": "0f4edd5d",
   "metadata": {},
   "outputs": [],
   "source": [
    "test_df['Ob'] = pd.to_datetime(test_df['Ob'])"
   ]
  },
  {
   "cell_type": "code",
   "execution_count": null,
   "id": "7fbf724c",
   "metadata": {},
   "outputs": [],
   "source": [
    "from sklearn.preprocessing import StandardScaler, LabelEncoder\n",
    "\n",
    "features = ['Station', 'Ob', 'value', 'measure', 'R_flag', 'I_flag', 'Z_flag', 'B_flag']\n",
    "temp_df = test_df.loc[:]\n",
    "\n",
    "label_encoder = LabelEncoder()\n",
    "temp_df['Station'] = label_encoder.fit_transform(test_df['Station'])\n",
    "temp_df['measure'] = label_encoder.fit_transform(test_df['measure'])\n",
    "temp_df['Ob'] = test_df['Ob'].values.astype(float)\n",
    "\n",
    "x = temp_df.loc[:, features].values\n",
    "x = StandardScaler().fit_transform(x)"
   ]
  },
  {
   "cell_type": "code",
   "execution_count": null,
   "id": "a2577a52",
   "metadata": {},
   "outputs": [],
   "source": [
    "x.shape"
   ]
  },
  {
   "cell_type": "code",
   "execution_count": null,
   "id": "ee47f5dd",
   "metadata": {},
   "outputs": [],
   "source": [
    "def test_windows(X, time_steps, step):\n",
    "    Xs = []\n",
    "    n_records = X.shape[0]\n",
    "    remainder = (n_records - time_steps) % step\n",
    "    num_windows = 1 + int((n_records - time_steps - remainder) / step)\n",
    "    for k in range(num_windows):\n",
    "        Xs.append(X[k*step:time_steps-1+k*step+1])\n",
    "    return np.array(Xs)"
   ]
  },
  {
   "cell_type": "code",
   "execution_count": null,
   "id": "5187228c",
   "metadata": {},
   "outputs": [],
   "source": [
    "from sklearn.decomposition import PCA\n",
    "pca = PCA(n_components = 0.95)\n",
    "principalComponents = pca.fit_transform(x)\n",
    "p_df = pd.DataFrame(principalComponents)"
   ]
  },
  {
   "cell_type": "code",
   "execution_count": null,
   "id": "26185115",
   "metadata": {},
   "outputs": [],
   "source": [
    "p_df.shape"
   ]
  },
  {
   "cell_type": "code",
   "execution_count": null,
   "id": "fc5c6709",
   "metadata": {},
   "outputs": [],
   "source": [
    "finalDf = test_windows(p_df, time_steps=TIME_STEPS,step=STEP)"
   ]
  },
  {
   "cell_type": "code",
   "execution_count": null,
   "id": "cf297a70",
   "metadata": {},
   "outputs": [],
   "source": [
    "finalDf.shape"
   ]
  },
  {
   "cell_type": "code",
   "execution_count": null,
   "id": "32f19d10",
   "metadata": {},
   "outputs": [],
   "source": [
    "y_preds_test = model.predict(finalDf)"
   ]
  },
  {
   "cell_type": "code",
   "execution_count": null,
   "id": "f979e732",
   "metadata": {},
   "outputs": [],
   "source": [
    "pred_test = np.concatenate([y_preds_test, np.asarray([y_preds_test[-1]]*39)])"
   ]
  },
  {
   "cell_type": "code",
   "execution_count": null,
   "id": "ca60559a",
   "metadata": {},
   "outputs": [],
   "source": [
    "print(pred_test.shape)"
   ]
  },
  {
   "cell_type": "code",
   "execution_count": null,
   "id": "a8e3862f",
   "metadata": {},
   "outputs": [],
   "source": [
    "pd.DataFrame(pred_test[:,1], columns=['target']).to_csv('predictions.csv', index=False)"
   ]
  },
  {
   "cell_type": "code",
   "execution_count": null,
   "id": "c3115e88",
   "metadata": {},
   "outputs": [],
   "source": []
  }
 ],
 "metadata": {
  "kernelspec": {
   "display_name": "Python 3 (ipykernel)",
   "language": "python",
   "name": "python3"
  },
  "language_info": {
   "codemirror_mode": {
    "name": "ipython",
    "version": 3
   },
   "file_extension": ".py",
   "mimetype": "text/x-python",
   "name": "python",
   "nbconvert_exporter": "python",
   "pygments_lexer": "ipython3",
   "version": "3.8.8"
  }
 },
 "nbformat": 4,
 "nbformat_minor": 5
}
