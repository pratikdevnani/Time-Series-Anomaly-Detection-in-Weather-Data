{
 "cells": [
  {
   "cell_type": "code",
   "execution_count": 1,
   "id": "59f7e552",
   "metadata": {},
   "outputs": [],
   "source": [
    "import tensorflow as tf"
   ]
  },
  {
   "cell_type": "code",
   "execution_count": 2,
   "id": "fdd12490",
   "metadata": {},
   "outputs": [],
   "source": [
    "import csv\n",
    "import os\n",
    "import pandas as pd\n",
    "import numpy as np\n",
    "import matplotlib.pyplot as plt\n",
    "import glob\n",
    "import imblearn\n",
    "import warnings\n",
    "warnings.filterwarnings('ignore')"
   ]
  },
  {
   "cell_type": "code",
   "execution_count": 3,
   "id": "13e19d85",
   "metadata": {},
   "outputs": [],
   "source": [
    "train_df = pd.read_csv('econet dataset/train.csv')"
   ]
  },
  {
   "cell_type": "code",
   "execution_count": 4,
   "id": "12287df2",
   "metadata": {},
   "outputs": [],
   "source": [
    "train_df['Ob'] = pd.to_datetime(train_df['Ob'])"
   ]
  },
  {
   "cell_type": "code",
   "execution_count": 5,
   "id": "43e635ad",
   "metadata": {},
   "outputs": [],
   "source": [
    "from sklearn.preprocessing import StandardScaler, LabelEncoder\n",
    "label_encoder = LabelEncoder()\n",
    "features = ['Station', 'Ob', 'value', 'measure', 'R_flag', 'I_flag', 'Z_flag', 'B_flag']\n",
    "temp_df = train_df.loc[:]\n",
    "label_encoder = LabelEncoder()\n",
    "temp_df['Station'] = label_encoder.fit_transform(train_df['Station'])\n",
    "temp_df['measure'] = label_encoder.fit_transform(train_df['measure'])\n",
    "temp_df['Ob'] = train_df['Ob'].values.astype(float)\n",
    "\n",
    "x = temp_df.loc[:, features].values\n",
    "y = temp_df.loc[:,['target']].values\n",
    "x = StandardScaler().fit_transform(x)"
   ]
  },
  {
   "cell_type": "code",
   "execution_count": 6,
   "id": "2ea38c34",
   "metadata": {},
   "outputs": [],
   "source": [
    "# from sklearn.decomposition import PCA\n",
    "# pca = PCA(n_components = 0.95)\n",
    "# principalComponents = pca.fit_transform(x)\n",
    "# p_df = pd.DataFrame(principalComponents)"
   ]
  },
  {
   "cell_type": "code",
   "execution_count": 7,
   "id": "2d8ff94b",
   "metadata": {},
   "outputs": [
    {
     "name": "stdout",
     "output_type": "stream",
     "text": [
      "         0         1         2         3         4         5         6  \\\n",
      "0 -1.57635 -1.619118 -0.251460  1.351229  1.280241 -0.400139  1.233982   \n",
      "1 -1.57635 -1.617488 -0.249337  1.351229  1.280241 -0.400139  1.233982   \n",
      "2 -1.57635 -1.617080 -0.250398  1.351229  1.280241 -0.400139  1.233982   \n",
      "3 -1.57635 -1.616265 -0.253937  1.351229  1.280241 -0.400139  1.233982   \n",
      "4 -1.57635 -1.178027 -0.256768  1.351229  1.280241 -0.400139  1.233982   \n",
      "\n",
      "          7  target  \n",
      "0  0.431695   False  \n",
      "1  0.431695   False  \n",
      "2  0.431695   False  \n",
      "3  0.431695   False  \n",
      "4  0.431695   False  \n"
     ]
    }
   ],
   "source": [
    "finalDf = pd.concat([pd.DataFrame(x), temp_df[['target']]], axis = 1)\n",
    "print(finalDf.head())"
   ]
  },
  {
   "cell_type": "code",
   "execution_count": 8,
   "id": "00ca3cd4",
   "metadata": {},
   "outputs": [
    {
     "name": "stdout",
     "output_type": "stream",
     "text": [
      "<class 'pandas.core.series.Series'> <class 'pandas.core.frame.DataFrame'>\n"
     ]
    }
   ],
   "source": [
    "y = finalDf['target']\n",
    "X = finalDf[[0, 1, 2, 3, 4, 5, 6, 7]]\n",
    "print(type(y), type(X))"
   ]
  },
  {
   "cell_type": "code",
   "execution_count": null,
   "id": "2ce43d4c",
   "metadata": {},
   "outputs": [],
   "source": [
    "# finalDf.to_csv('finalDF.csv', index = True)\n",
    "# finalDf = pd.read_csv('finalDF.csv')"
   ]
  },
  {
   "cell_type": "code",
   "execution_count": 9,
   "id": "3cd97c84",
   "metadata": {},
   "outputs": [
    {
     "name": "stdout",
     "output_type": "stream",
     "text": [
      "(6593274, 8) (6593274,)\n"
     ]
    }
   ],
   "source": [
    "print(X.shape, y.shape)"
   ]
  },
  {
   "cell_type": "code",
   "execution_count": 32,
   "id": "09625bf1",
   "metadata": {},
   "outputs": [],
   "source": [
    "from sklearn.preprocessing import OneHotEncoder\n",
    "from sklearn.model_selection import train_test_split\n",
    "\n",
    "X_train, X_test, y_train, y_test = train_test_split(X, y, test_size=0.3, random_state=42)"
   ]
  },
  {
   "cell_type": "code",
   "execution_count": 33,
   "id": "844efc8a",
   "metadata": {},
   "outputs": [
    {
     "name": "stdout",
     "output_type": "stream",
     "text": [
      "(8901692, 8) (8901692,)\n"
     ]
    }
   ],
   "source": [
    "from imblearn.over_sampling import SMOTE\n",
    "\n",
    "under = SMOTE(random_state = 42)\n",
    "\n",
    "X_train, y_train = under.fit_resample(X_train, y_train)\n",
    "print(X_train.shape, y_train.shape)"
   ]
  },
  {
   "cell_type": "code",
   "execution_count": 34,
   "id": "1197fb8d",
   "metadata": {},
   "outputs": [
    {
     "data": {
      "text/plain": [
       "target\n",
       "False     4450846\n",
       "True      4450846\n",
       "dtype: int64"
      ]
     },
     "execution_count": 34,
     "metadata": {},
     "output_type": "execute_result"
    }
   ],
   "source": [
    "pd.DataFrame(y_train).value_counts()"
   ]
  },
  {
   "cell_type": "code",
   "execution_count": 35,
   "id": "9dac1e4e",
   "metadata": {},
   "outputs": [],
   "source": [
    "y_train = np.array(y_train).reshape(-1, 1)\n",
    "y_test = np.array(y_test).reshape(-1, 1)"
   ]
  },
  {
   "cell_type": "code",
   "execution_count": 36,
   "id": "123b2fcc",
   "metadata": {},
   "outputs": [
    {
     "name": "stdout",
     "output_type": "stream",
     "text": [
      "[[False]\n",
      " [False]\n",
      " [False]\n",
      " ...\n",
      " [ True]\n",
      " [ True]\n",
      " [ True]] [[False]\n",
      " [False]\n",
      " [False]\n",
      " ...\n",
      " [False]\n",
      " [False]\n",
      " [False]]\n"
     ]
    }
   ],
   "source": [
    "print(y_train, y_test)"
   ]
  },
  {
   "cell_type": "code",
   "execution_count": 37,
   "id": "82ae0c1f",
   "metadata": {},
   "outputs": [],
   "source": [
    "enc = OneHotEncoder(handle_unknown='ignore', sparse=False)\n",
    "enc = enc.fit(y_train)\n",
    "y_train = enc.transform(y_train)\n",
    "y_test = enc.transform(y_test)"
   ]
  },
  {
   "cell_type": "code",
   "execution_count": 38,
   "id": "8062ed30",
   "metadata": {},
   "outputs": [
    {
     "name": "stdout",
     "output_type": "stream",
     "text": [
      "(8901692, 8) (8901692, 2)\n"
     ]
    }
   ],
   "source": [
    "print(X_train.shape, y_train.shape)"
   ]
  },
  {
   "cell_type": "code",
   "execution_count": 39,
   "id": "4a28c95e",
   "metadata": {},
   "outputs": [
    {
     "name": "stdout",
     "output_type": "stream",
     "text": [
      "[[1. 0.]\n",
      " [1. 0.]\n",
      " [1. 0.]\n",
      " ...\n",
      " [0. 1.]\n",
      " [0. 1.]\n",
      " [0. 1.]]\n"
     ]
    }
   ],
   "source": [
    "print(y_train)"
   ]
  },
  {
   "cell_type": "code",
   "execution_count": 40,
   "id": "6b241fd7",
   "metadata": {},
   "outputs": [],
   "source": [
    "from tensorflow.keras.callbacks import EarlyStopping\n",
    "early_stopping = EarlyStopping(monitor='val_loss', mode='min', verbose=1, patience=1, min_delta = 0.001)"
   ]
  },
  {
   "cell_type": "code",
   "execution_count": 42,
   "id": "d44addde",
   "metadata": {},
   "outputs": [],
   "source": [
    "from tensorflow.keras.models import Sequential, load_model\n",
    "from tensorflow.keras.layers import Dense, Activation, Dropout\n",
    "from tensorflow.keras.optimizers import Adam, SGD\n",
    "\n",
    "input_shape = (X_train.shape[1])\n",
    "output_dim = 2\n",
    "\n",
    "ann=Sequential()\n",
    "ann.add(Dense(units=input_shape, activation=\"relu\"))\n",
    "ann.add(Dropout(0.1))\n",
    "ann.add(Dense(units=16,activation=\"relu\"))\n",
    "ann.add(Dense(units=16,activation=\"relu\"))\n",
    "ann.add(Dropout(0.1))\n",
    "ann.add(Dense(units=2,activation=\"sigmoid\"))\n",
    "ann.compile(optimizer=\"adam\",loss=\"binary_crossentropy\")"
   ]
  },
  {
   "cell_type": "code",
   "execution_count": null,
   "id": "83737746",
   "metadata": {},
   "outputs": [
    {
     "name": "stdout",
     "output_type": "stream",
     "text": [
      "Epoch 1/3\n",
      "197327/222543 [=========================>....] - ETA: 3:44 - loss: 0.1744"
     ]
    }
   ],
   "source": [
    "hist = ann.fit(X_train, y_train, validation_split=0.2, batch_size=32, epochs=3)"
   ]
  },
  {
   "cell_type": "code",
   "execution_count": null,
   "id": "565d641e",
   "metadata": {},
   "outputs": [],
   "source": [
    "import pickle\n",
    "filename = 'ann_model.pkl'\n",
    "with open(filename, 'wb') as f:\n",
    "    pickle.dump(hist,  f)"
   ]
  },
  {
   "cell_type": "code",
   "execution_count": null,
   "id": "79f5e9f7",
   "metadata": {},
   "outputs": [],
   "source": [
    "y_pred = ann.predict(X_test)"
   ]
  },
  {
   "cell_type": "code",
   "execution_count": null,
   "id": "854ce904",
   "metadata": {},
   "outputs": [],
   "source": [
    "print(y_pred)\n",
    "print(y_pred.shape)"
   ]
  },
  {
   "cell_type": "code",
   "execution_count": null,
   "id": "06d26a9e",
   "metadata": {},
   "outputs": [],
   "source": [
    "y_pred = np.argmax(y_pred, axis = 1)\n",
    "y_test = np.argmax(y_test, axis = 1)"
   ]
  },
  {
   "cell_type": "code",
   "execution_count": null,
   "id": "49166f25",
   "metadata": {},
   "outputs": [],
   "source": [
    "print(y_pred)"
   ]
  },
  {
   "cell_type": "code",
   "execution_count": null,
   "id": "97f41eeb",
   "metadata": {},
   "outputs": [],
   "source": [
    "from sklearn.metrics import classification_report\n",
    "\n",
    "print(classification_report(y_test, y_pred))"
   ]
  },
  {
   "cell_type": "code",
   "execution_count": null,
   "id": "3fa8f9ec",
   "metadata": {},
   "outputs": [],
   "source": [
    "test_df = pd.read_csv('econet dataset/test.csv')"
   ]
  },
  {
   "cell_type": "code",
   "execution_count": null,
   "id": "dd14a0d4",
   "metadata": {},
   "outputs": [],
   "source": [
    "test_df['Ob'] = pd.to_datetime(test_df['Ob'])"
   ]
  },
  {
   "cell_type": "code",
   "execution_count": null,
   "id": "738dae72",
   "metadata": {},
   "outputs": [],
   "source": [
    "from sklearn.preprocessing import StandardScaler, LabelEncoder\n",
    "\n",
    "features = ['Station', 'Ob', 'value', 'measure', 'R_flag', 'I_flag', 'Z_flag', 'B_flag']\n",
    "temp_df = test_df.loc[:]\n",
    "\n",
    "label_encoder = LabelEncoder()\n",
    "temp_df['Station'] = label_encoder.fit_transform(test_df['Station'])\n",
    "temp_df['measure'] = label_encoder.fit_transform(test_df['measure'])\n",
    "temp_df['Ob'] = test_df['Ob'].values.astype(float)\n",
    "\n",
    "x = temp_df.loc[:, features].values\n",
    "# x = StandardScaler().fit_transform(x)"
   ]
  },
  {
   "cell_type": "code",
   "execution_count": null,
   "id": "0d1fd726",
   "metadata": {},
   "outputs": [],
   "source": [
    "# from sklearn.decomposition import PCA\n",
    "# pca = PCA(n_components = 0.95)\n",
    "# principalComponents = pca.fit_transform(x)\n",
    "# p_df = pd.DataFrame(principalComponents)"
   ]
  },
  {
   "cell_type": "code",
   "execution_count": null,
   "id": "88e61d6e",
   "metadata": {},
   "outputs": [],
   "source": [
    "finalDf = x"
   ]
  },
  {
   "cell_type": "code",
   "execution_count": null,
   "id": "04eabf45",
   "metadata": {},
   "outputs": [],
   "source": [
    "print(finalDf)"
   ]
  },
  {
   "cell_type": "code",
   "execution_count": null,
   "id": "060a319e",
   "metadata": {},
   "outputs": [],
   "source": []
  },
  {
   "cell_type": "code",
   "execution_count": null,
   "id": "a4e2f0f0",
   "metadata": {},
   "outputs": [],
   "source": [
    "y_preds_test = ann.predict(finalDf)"
   ]
  },
  {
   "cell_type": "code",
   "execution_count": null,
   "id": "1626a2dd",
   "metadata": {},
   "outputs": [],
   "source": [
    "print(y_preds_test.shape)"
   ]
  },
  {
   "cell_type": "code",
   "execution_count": null,
   "id": "58ca3196",
   "metadata": {},
   "outputs": [],
   "source": [
    "pd.DataFrame(y_preds_test[:,1], columns=['target']).to_csv('predictions.csv', index=False)"
   ]
  },
  {
   "cell_type": "code",
   "execution_count": null,
   "id": "7276f655",
   "metadata": {},
   "outputs": [],
   "source": []
  }
 ],
 "metadata": {
  "kernelspec": {
   "display_name": "Python 3 (ipykernel)",
   "language": "python",
   "name": "python3"
  },
  "language_info": {
   "codemirror_mode": {
    "name": "ipython",
    "version": 3
   },
   "file_extension": ".py",
   "mimetype": "text/x-python",
   "name": "python",
   "nbconvert_exporter": "python",
   "pygments_lexer": "ipython3",
   "version": "3.8.8"
  }
 },
 "nbformat": 4,
 "nbformat_minor": 5
}
