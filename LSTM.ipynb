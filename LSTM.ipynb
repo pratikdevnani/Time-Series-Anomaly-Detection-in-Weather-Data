{
 "cells": [
  {
   "cell_type": "code",
   "execution_count": 1,
   "id": "a153a0e5",
   "metadata": {},
   "outputs": [],
   "source": [
    "import tensorflow as tf"
   ]
  },
  {
   "cell_type": "code",
   "execution_count": 2,
   "id": "f60cc7a7",
   "metadata": {},
   "outputs": [],
   "source": [
    "import csv\n",
    "import os\n",
    "import pandas as pd\n",
    "import numpy as np\n",
    "import matplotlib.pyplot as plt\n",
    "import glob\n",
    "import imblearn\n",
    "import warnings\n",
    "warnings.filterwarnings('ignore')"
   ]
  },
  {
   "cell_type": "code",
   "execution_count": 3,
   "id": "40c631bc",
   "metadata": {},
   "outputs": [],
   "source": [
    "train_df = pd.read_csv('econet dataset/train.csv')\n",
    "unique_locations = train_df['Station'].unique()"
   ]
  },
  {
   "cell_type": "code",
   "execution_count": 4,
   "id": "10bc7767",
   "metadata": {},
   "outputs": [],
   "source": [
    "train_df['Ob'] = pd.to_datetime(train_df['Ob'])"
   ]
  },
  {
   "cell_type": "code",
   "execution_count": 5,
   "id": "c56797e1",
   "metadata": {},
   "outputs": [],
   "source": [
    "from sklearn.preprocessing import StandardScaler, LabelEncoder\n",
    "label_encoder = LabelEncoder()\n",
    "features = ['Station', 'Ob', 'value', 'measure', 'R_flag', 'I_flag', 'Z_flag', 'B_flag']\n",
    "temp_df = train_df.loc[:]\n",
    "label_encoder = LabelEncoder()\n",
    "temp_df['Station'] = label_encoder.fit_transform(train_df['Station'])\n",
    "temp_df['measure'] = label_encoder.fit_transform(train_df['measure'])\n",
    "temp_df['Ob'] = train_df['Ob'].values.astype(float)\n",
    "\n",
    "x = temp_df.loc[:, features].values\n",
    "y = temp_df.loc[:,['target']].values\n",
    "x = StandardScaler().fit_transform(x)"
   ]
  },
  {
   "cell_type": "code",
   "execution_count": 6,
   "id": "86827a1e",
   "metadata": {},
   "outputs": [],
   "source": [
    "from sklearn.decomposition import PCA\n",
    "pca = PCA(n_components = 0.99)\n",
    "principalComponents = pca.fit_transform(x)\n",
    "p_df = pd.DataFrame(principalComponents)"
   ]
  },
  {
   "cell_type": "code",
   "execution_count": 7,
   "id": "9d2737b1",
   "metadata": {},
   "outputs": [
    {
     "name": "stdout",
     "output_type": "stream",
     "text": [
      "          0         1         2         3         4         5         6  \\\n",
      "0 -0.326512  0.946291  0.364007  2.680728 -0.883147  0.672595 -0.590456   \n",
      "1 -0.325359  0.945896  0.362786  2.679443 -0.883103  0.673863 -0.591416   \n",
      "2 -0.325825  0.946202  0.362537  2.679315 -0.883461  0.673131 -0.590933   \n",
      "3 -0.327426  0.947174  0.362091  2.679230 -0.884507  0.670732 -0.589325   \n",
      "4 -0.289066  0.986795  0.054464  2.403466 -1.005693  0.633474 -0.586918   \n",
      "\n",
      "          7  target  \n",
      "0  0.775774   False  \n",
      "1  0.775882   False  \n",
      "2  0.775960   False  \n",
      "3  0.776162   False  \n",
      "4  0.823686   False  \n"
     ]
    }
   ],
   "source": [
    "finalDf = pd.concat([p_df, temp_df[['target']]], axis = 1)\n",
    "print(finalDf.head())"
   ]
  },
  {
   "cell_type": "code",
   "execution_count": 8,
   "id": "50214814",
   "metadata": {},
   "outputs": [],
   "source": [
    "from scipy import stats\n",
    "\n",
    "def create_windows(X, y, time_steps=1, step=1):\n",
    "    Xs, ys = [], []\n",
    "      \n",
    "    for i in range(0, len(X) - time_steps + 1, step):\n",
    "        v = X.iloc[i:(i + time_steps)].values\n",
    "        labels = y.iloc[i: i + time_steps]\n",
    "        Xs.append(v)\n",
    "        ys.append(stats.mode(labels)[0][0])\n",
    "\n",
    "    return np.array(Xs), np.array(ys).reshape(-1, 1)"
   ]
  },
  {
   "cell_type": "code",
   "execution_count": 9,
   "id": "3b684e8c",
   "metadata": {},
   "outputs": [
    {
     "name": "stdout",
     "output_type": "stream",
     "text": [
      "<class 'pandas.core.series.Series'> <class 'pandas.core.frame.DataFrame'>\n"
     ]
    }
   ],
   "source": [
    "# y = label_encoder.fit_transform(finalDf['target'])\n",
    "y = finalDf['target']\n",
    "X = finalDf[[0, 1, 2, 3, 4, 5, 6, 7]]\n",
    "print(type(y), type(X))"
   ]
  },
  {
   "cell_type": "code",
   "execution_count": 10,
   "id": "a061e3c2",
   "metadata": {},
   "outputs": [
    {
     "name": "stdout",
     "output_type": "stream",
     "text": [
      "(6593274, 8) (6593274,)\n"
     ]
    }
   ],
   "source": [
    "print(X.shape, y.shape)"
   ]
  },
  {
   "cell_type": "code",
   "execution_count": 11,
   "id": "e4becfbe",
   "metadata": {},
   "outputs": [
    {
     "name": "stdout",
     "output_type": "stream",
     "text": [
      "(470344, 8) (470344,)\n"
     ]
    }
   ],
   "source": [
    "from imblearn.under_sampling import RandomUnderSampler\n",
    "from imblearn.over_sampling import SMOTE\n",
    "\n",
    "under = RandomUnderSampler(random_state = 42)\n",
    "\n",
    "X, y = under.fit_resample(X, y)\n",
    "print(X.shape, y.shape)"
   ]
  },
  {
   "cell_type": "code",
   "execution_count": 12,
   "id": "61be2430",
   "metadata": {},
   "outputs": [
    {
     "data": {
      "text/plain": [
       "target\n",
       "False     235172\n",
       "True      235172\n",
       "dtype: int64"
      ]
     },
     "execution_count": 12,
     "metadata": {},
     "output_type": "execute_result"
    }
   ],
   "source": [
    "pd.DataFrame(y).value_counts()"
   ]
  },
  {
   "cell_type": "code",
   "execution_count": 13,
   "id": "68e436ae",
   "metadata": {},
   "outputs": [],
   "source": [
    "TIME_STEPS = 40\n",
    "STEP = 1\n",
    "\n",
    "X, y = create_windows(X, y, time_steps=TIME_STEPS,step=STEP)"
   ]
  },
  {
   "cell_type": "code",
   "execution_count": 39,
   "id": "9c4d6e59",
   "metadata": {},
   "outputs": [
    {
     "data": {
      "text/plain": [
       "(470305, 1)"
      ]
     },
     "execution_count": 39,
     "metadata": {},
     "output_type": "execute_result"
    }
   ],
   "source": [
    "y.shape"
   ]
  },
  {
   "cell_type": "code",
   "execution_count": 14,
   "id": "834554fe",
   "metadata": {},
   "outputs": [],
   "source": [
    "from sklearn.preprocessing import OneHotEncoder\n",
    "from sklearn.model_selection import train_test_split\n",
    "from imblearn.over_sampling import SMOTE\n",
    "\n",
    "X_train, X_test, y_train, y_test = train_test_split(X, y, test_size=0.2, random_state=42)\n",
    "\n",
    "enc = OneHotEncoder(handle_unknown='ignore', sparse=False)\n",
    "enc = enc.fit(y_train)\n",
    "y_train = enc.transform(y_train)\n",
    "y_test = enc.transform(y_test)"
   ]
  },
  {
   "cell_type": "code",
   "execution_count": 15,
   "id": "cd7a0b8d",
   "metadata": {},
   "outputs": [
    {
     "data": {
      "text/plain": [
       "array([0., 1.])"
      ]
     },
     "execution_count": 15,
     "metadata": {},
     "output_type": "execute_result"
    }
   ],
   "source": [
    "y_test[0]"
   ]
  },
  {
   "cell_type": "code",
   "execution_count": 16,
   "id": "46944c62",
   "metadata": {},
   "outputs": [
    {
     "data": {
      "text/plain": [
       "(376244, 2)"
      ]
     },
     "execution_count": 16,
     "metadata": {},
     "output_type": "execute_result"
    }
   ],
   "source": [
    "y_train.shape"
   ]
  },
  {
   "cell_type": "code",
   "execution_count": 17,
   "id": "0433f161",
   "metadata": {},
   "outputs": [
    {
     "name": "stdout",
     "output_type": "stream",
     "text": [
      "(376244, 40, 8) (376244, 2)\n"
     ]
    }
   ],
   "source": [
    "print(X_train.shape, y_train.shape)"
   ]
  },
  {
   "cell_type": "code",
   "execution_count": 18,
   "id": "be633039",
   "metadata": {},
   "outputs": [
    {
     "name": "stdout",
     "output_type": "stream",
     "text": [
      "(40, 8)\n"
     ]
    }
   ],
   "source": [
    "from tensorflow.keras.models import Sequential, load_model\n",
    "from tensorflow.keras.layers import Dense, Activation, Dropout\n",
    "from tensorflow.keras.layers import LSTM\n",
    "from tensorflow.keras.optimizers import Adam, SGD\n",
    "\n",
    "input_shape = (X_train.shape[1], X_train.shape[2])\n",
    "print(input_shape)\n",
    "output_dim = 2\n",
    "\n",
    "model=Sequential()\n",
    "model.add(LSTM(4,return_sequences=True,input_shape=input_shape))\n",
    "model.add(Dropout(0.1)) \n",
    "model.add(LSTM(4, return_sequences=False))\n",
    "model.add(Dropout(0.1))\n",
    "model.add(Dense(output_dim))\n",
    "model.add(Activation(\"softmax\"))\n",
    "model.compile(loss='categorical_crossentropy',optimizer='adam')"
   ]
  },
  {
   "cell_type": "code",
   "execution_count": 19,
   "id": "000b278a",
   "metadata": {},
   "outputs": [
    {
     "name": "stdout",
     "output_type": "stream",
     "text": [
      "Epoch 1/10\n",
      "5879/5879 [==============================] - 59s 9ms/step - loss: 0.0372\n",
      "Epoch 2/10\n",
      "5879/5879 [==============================] - 61s 10ms/step - loss: 0.0015\n",
      "Epoch 3/10\n",
      "5879/5879 [==============================] - 61s 10ms/step - loss: 6.8476e-04\n",
      "Epoch 4/10\n",
      "5879/5879 [==============================] - 53s 9ms/step - loss: 5.1427e-04\n",
      "Epoch 5/10\n",
      "5879/5879 [==============================] - 58s 10ms/step - loss: 2.5628e-04\n",
      "Epoch 6/10\n",
      "5879/5879 [==============================] - 57s 10ms/step - loss: 2.4667e-04\n",
      "Epoch 7/10\n",
      "5879/5879 [==============================] - 53s 9ms/step - loss: 3.9925e-04\n",
      "Epoch 8/10\n",
      "5879/5879 [==============================] - 54s 9ms/step - loss: 1.7007e-04\n",
      "Epoch 9/10\n",
      "5879/5879 [==============================] - 52s 9ms/step - loss: 3.1228e-04\n",
      "Epoch 10/10\n",
      "5879/5879 [==============================] - 52s 9ms/step - loss: 1.7221e-04\n"
     ]
    }
   ],
   "source": [
    "hist = model.fit(\n",
    "    X_train, y_train,\n",
    "    epochs=10,\n",
    "    batch_size=64,\n",
    "    shuffle=True\n",
    ")"
   ]
  },
  {
   "cell_type": "code",
   "execution_count": 20,
   "id": "68a0371c",
   "metadata": {},
   "outputs": [
    {
     "name": "stderr",
     "output_type": "stream",
     "text": [
      "WARNING:absl:Found untraced functions such as lstm_cell_layer_call_fn, lstm_cell_layer_call_and_return_conditional_losses, lstm_cell_1_layer_call_fn, lstm_cell_1_layer_call_and_return_conditional_losses while saving (showing 4 of 4). These functions will not be directly callable after loading.\n"
     ]
    },
    {
     "name": "stdout",
     "output_type": "stream",
     "text": [
      "INFO:tensorflow:Assets written to: ram://49c63bc8-0cd9-48b0-94f5-c6d880cb453b/assets\n"
     ]
    },
    {
     "name": "stderr",
     "output_type": "stream",
     "text": [
      "INFO:tensorflow:Assets written to: ram://49c63bc8-0cd9-48b0-94f5-c6d880cb453b/assets\n",
      "WARNING:absl:<keras.layers.recurrent.LSTMCell object at 0x00000154B402B6D0> has the same name 'LSTMCell' as a built-in Keras object. Consider renaming <class 'keras.layers.recurrent.LSTMCell'> to avoid naming conflicts when loading with `tf.keras.models.load_model`. If renaming is not possible, pass the object in the `custom_objects` parameter of the load function.\n",
      "WARNING:absl:<keras.layers.recurrent.LSTMCell object at 0x00000154CE8E2460> has the same name 'LSTMCell' as a built-in Keras object. Consider renaming <class 'keras.layers.recurrent.LSTMCell'> to avoid naming conflicts when loading with `tf.keras.models.load_model`. If renaming is not possible, pass the object in the `custom_objects` parameter of the load function.\n"
     ]
    }
   ],
   "source": [
    "import pickle\n",
    "filename = 'lstm_model.pkl'\n",
    "with open(filename, 'wb') as f:\n",
    "    pickle.dump(hist,  f)"
   ]
  },
  {
   "cell_type": "code",
   "execution_count": 21,
   "id": "396b8fef",
   "metadata": {},
   "outputs": [],
   "source": [
    "y_pred = model.predict(X_test)\n",
    "y_pred = np.argmax(y_pred, axis = 1)\n",
    "y_test = np.argmax(y_test, axis = 1)"
   ]
  },
  {
   "cell_type": "code",
   "execution_count": 22,
   "id": "9141c61a",
   "metadata": {},
   "outputs": [
    {
     "name": "stdout",
     "output_type": "stream",
     "text": [
      "              precision    recall  f1-score   support\n",
      "\n",
      "           0       1.00      1.00      1.00     46832\n",
      "           1       1.00      1.00      1.00     47229\n",
      "\n",
      "    accuracy                           1.00     94061\n",
      "   macro avg       1.00      1.00      1.00     94061\n",
      "weighted avg       1.00      1.00      1.00     94061\n",
      "\n"
     ]
    }
   ],
   "source": [
    "from sklearn.metrics import classification_report\n",
    "\n",
    "print(classification_report(y_test, y_pred))"
   ]
  },
  {
   "cell_type": "code",
   "execution_count": 23,
   "id": "917ee288",
   "metadata": {},
   "outputs": [
    {
     "name": "stdout",
     "output_type": "stream",
     "text": [
      "1    47229\n",
      "0    46832\n",
      "dtype: int64\n"
     ]
    }
   ],
   "source": [
    "import pandas as pd\n",
    "print(pd.DataFrame(y_pred).value_counts())"
   ]
  },
  {
   "cell_type": "code",
   "execution_count": 24,
   "id": "fcf9e9ea",
   "metadata": {},
   "outputs": [
    {
     "name": "stdout",
     "output_type": "stream",
     "text": [
      "1    47229\n",
      "0    46832\n",
      "dtype: int64\n"
     ]
    }
   ],
   "source": [
    "print(pd.DataFrame(y_test).value_counts())"
   ]
  },
  {
   "cell_type": "code",
   "execution_count": 25,
   "id": "fd40ea28",
   "metadata": {},
   "outputs": [],
   "source": [
    "test_df = pd.read_csv('econet dataset/test.csv')"
   ]
  },
  {
   "cell_type": "code",
   "execution_count": 26,
   "id": "fa459a33",
   "metadata": {},
   "outputs": [
    {
     "data": {
      "text/plain": [
       "(1856106, 8)"
      ]
     },
     "execution_count": 26,
     "metadata": {},
     "output_type": "execute_result"
    }
   ],
   "source": [
    "test_df.shape"
   ]
  },
  {
   "cell_type": "code",
   "execution_count": 27,
   "id": "80f679d3",
   "metadata": {},
   "outputs": [],
   "source": [
    "test_df['Ob'] = pd.to_datetime(test_df['Ob'])"
   ]
  },
  {
   "cell_type": "code",
   "execution_count": 28,
   "id": "191be0e8",
   "metadata": {},
   "outputs": [],
   "source": [
    "from sklearn.preprocessing import StandardScaler, LabelEncoder\n",
    "\n",
    "features = ['Station', 'Ob', 'value', 'measure', 'R_flag', 'I_flag', 'Z_flag', 'B_flag']\n",
    "temp_df = test_df.loc[:]\n",
    "\n",
    "label_encoder = LabelEncoder()\n",
    "temp_df['Station'] = label_encoder.fit_transform(test_df['Station'])\n",
    "temp_df['measure'] = label_encoder.fit_transform(test_df['measure'])\n",
    "temp_df['Ob'] = test_df['Ob'].values.astype(float)\n",
    "\n",
    "x = temp_df.loc[:, features].values\n",
    "x = StandardScaler().fit_transform(x)"
   ]
  },
  {
   "cell_type": "code",
   "execution_count": 29,
   "id": "d1fabc35",
   "metadata": {},
   "outputs": [
    {
     "data": {
      "text/plain": [
       "(1856106, 8)"
      ]
     },
     "execution_count": 29,
     "metadata": {},
     "output_type": "execute_result"
    }
   ],
   "source": [
    "x.shape"
   ]
  },
  {
   "cell_type": "code",
   "execution_count": 30,
   "id": "ed7fefbe",
   "metadata": {},
   "outputs": [],
   "source": [
    "def test_windows(X, time_steps, step):\n",
    "    Xs = []\n",
    "    n_records = X.shape[0]\n",
    "    remainder = (n_records - time_steps) % step\n",
    "    num_windows = 1 + int((n_records - time_steps - remainder) / step)\n",
    "    for k in range(num_windows):\n",
    "        Xs.append(X[k*step:time_steps-1+k*step+1])\n",
    "    return np.array(Xs)"
   ]
  },
  {
   "cell_type": "code",
   "execution_count": 31,
   "id": "a6291579",
   "metadata": {},
   "outputs": [],
   "source": [
    "from sklearn.decomposition import PCA\n",
    "pca = PCA(n_components = 0.99)\n",
    "principalComponents = pca.fit_transform(x)\n",
    "p_df = pd.DataFrame(principalComponents)"
   ]
  },
  {
   "cell_type": "code",
   "execution_count": 32,
   "id": "d59000b8",
   "metadata": {},
   "outputs": [
    {
     "data": {
      "text/plain": [
       "(1856106, 8)"
      ]
     },
     "execution_count": 32,
     "metadata": {},
     "output_type": "execute_result"
    }
   ],
   "source": [
    "p_df.shape"
   ]
  },
  {
   "cell_type": "code",
   "execution_count": 33,
   "id": "451b99c5",
   "metadata": {},
   "outputs": [],
   "source": [
    "finalDf = test_windows(p_df, time_steps=TIME_STEPS,step=STEP)"
   ]
  },
  {
   "cell_type": "code",
   "execution_count": 34,
   "id": "d15fb1aa",
   "metadata": {},
   "outputs": [
    {
     "data": {
      "text/plain": [
       "(1856067, 40, 8)"
      ]
     },
     "execution_count": 34,
     "metadata": {},
     "output_type": "execute_result"
    }
   ],
   "source": [
    "finalDf.shape"
   ]
  },
  {
   "cell_type": "code",
   "execution_count": 35,
   "id": "796140b3",
   "metadata": {},
   "outputs": [],
   "source": [
    "y_preds_test = model.predict(finalDf)"
   ]
  },
  {
   "cell_type": "code",
   "execution_count": 36,
   "id": "50df88fb",
   "metadata": {},
   "outputs": [],
   "source": [
    "pred_test = np.concatenate([y_preds_test, np.asarray([y_preds_test[-1]]*39)])"
   ]
  },
  {
   "cell_type": "code",
   "execution_count": 37,
   "id": "387b503b",
   "metadata": {},
   "outputs": [
    {
     "name": "stdout",
     "output_type": "stream",
     "text": [
      "(1856106, 2)\n"
     ]
    }
   ],
   "source": [
    "print(pred_test.shape)"
   ]
  },
  {
   "cell_type": "code",
   "execution_count": 38,
   "id": "04086fa9",
   "metadata": {},
   "outputs": [],
   "source": [
    "pd.DataFrame(pred_test[:,1], columns=['target']).to_csv('predictions.csv', index=False)"
   ]
  },
  {
   "cell_type": "code",
   "execution_count": null,
   "id": "d92c848a",
   "metadata": {},
   "outputs": [],
   "source": []
  },
  {
   "cell_type": "code",
   "execution_count": null,
   "id": "a727605f",
   "metadata": {},
   "outputs": [],
   "source": []
  }
 ],
 "metadata": {
  "kernelspec": {
   "display_name": "Python 3 (ipykernel)",
   "language": "python",
   "name": "python3"
  },
  "language_info": {
   "codemirror_mode": {
    "name": "ipython",
    "version": 3
   },
   "file_extension": ".py",
   "mimetype": "text/x-python",
   "name": "python",
   "nbconvert_exporter": "python",
   "pygments_lexer": "ipython3",
   "version": "3.8.8"
  }
 },
 "nbformat": 4,
 "nbformat_minor": 5
}
